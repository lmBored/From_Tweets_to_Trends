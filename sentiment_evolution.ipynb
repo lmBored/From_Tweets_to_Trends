{
 "cells": [
  {
   "cell_type": "code",
   "execution_count": 30,
   "metadata": {},
   "outputs": [],
   "source": [
    "from pathlib import Path\n",
    "import os\n",
    "\n",
    "lines = [553, 567]\n",
    "    \n",
    "files = []\n",
    "with open('json_files.txt') as file:\n",
    "    for i, line in enumerate(file):\n",
    "        if lines[0] <= i < lines[1]:\n",
    "            files.append(line.strip())\n",
    "\n",
    "data = [Path(\"data/\"+file) for file in os.listdir('data') if file in files]"
   ]
  }
 ],
 "metadata": {
  "kernelspec": {
   "display_name": "jbg030",
   "language": "python",
   "name": "python3"
  },
  "language_info": {
   "codemirror_mode": {
    "name": "ipython",
    "version": 3
   },
   "file_extension": ".py",
   "mimetype": "text/x-python",
   "name": "python",
   "nbconvert_exporter": "python",
   "pygments_lexer": "ipython3",
   "version": "3.12.3"
  }
 },
 "nbformat": 4,
 "nbformat_minor": 2
}
