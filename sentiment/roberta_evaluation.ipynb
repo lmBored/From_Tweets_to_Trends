{
 "cells": [
  {
   "cell_type": "code",
   "execution_count": 2,
   "metadata": {},
   "outputs": [],
   "source": [
    "import sys\n",
    "import os\n",
    "root_dir = os.path.dirname(os.getcwd())\n",
    "sys.path.append(root_dir)\n",
    "os.chdir(root_dir)"
   ]
  },
  {
   "cell_type": "code",
   "execution_count": 3,
   "metadata": {},
   "outputs": [
    {
     "data": {
      "text/plain": [
       "'\\n'"
      ]
     },
     "execution_count": 3,
     "metadata": {},
     "output_type": "execute_result"
    }
   ],
   "source": [
    "def check_line_terminators(filename):\n",
    "    with open(filename, 'rb') as f:\n",
    "        data = f.read()\n",
    "\n",
    "    line_terminators = {'\\r\\n': b'\\r\\n', '\\n': b'\\n', '\\r': b'\\r'}\n",
    "\n",
    "    for name, terminator in line_terminators.items():\n",
    "        if terminator in data:\n",
    "            return name\n",
    "\n",
    "# Call the function with the filename\n",
    "check_line_terminators('training.1600000.processed.noemoticon.csv')"
   ]
  },
  {
   "cell_type": "code",
   "execution_count": 4,
   "metadata": {},
   "outputs": [
    {
     "data": {
      "text/html": [
       "<div>\n",
       "<style scoped>\n",
       "    .dataframe tbody tr th:only-of-type {\n",
       "        vertical-align: middle;\n",
       "    }\n",
       "\n",
       "    .dataframe tbody tr th {\n",
       "        vertical-align: top;\n",
       "    }\n",
       "\n",
       "    .dataframe thead th {\n",
       "        text-align: right;\n",
       "    }\n",
       "</style>\n",
       "<table border=\"1\" class=\"dataframe\">\n",
       "  <thead>\n",
       "    <tr style=\"text-align: right;\">\n",
       "      <th></th>\n",
       "      <th>0</th>\n",
       "      <th>1</th>\n",
       "      <th>2</th>\n",
       "      <th>3</th>\n",
       "      <th>4</th>\n",
       "      <th>5</th>\n",
       "    </tr>\n",
       "  </thead>\n",
       "  <tbody>\n",
       "    <tr>\n",
       "      <th>0</th>\n",
       "      <td>0</td>\n",
       "      <td>1467810369</td>\n",
       "      <td>Mon Apr 06 22:19:45 PDT 2009</td>\n",
       "      <td>NO_QUERY</td>\n",
       "      <td>_TheSpecialOne_</td>\n",
       "      <td>@switchfoot http://twitpic.com/2y1zl - Awww, t...</td>\n",
       "    </tr>\n",
       "    <tr>\n",
       "      <th>1</th>\n",
       "      <td>0</td>\n",
       "      <td>1467810672</td>\n",
       "      <td>Mon Apr 06 22:19:49 PDT 2009</td>\n",
       "      <td>NO_QUERY</td>\n",
       "      <td>scotthamilton</td>\n",
       "      <td>is upset that he can't update his Facebook by ...</td>\n",
       "    </tr>\n",
       "  </tbody>\n",
       "</table>\n",
       "</div>"
      ],
      "text/plain": [
       "   0           1                             2         3                4  \\\n",
       "0  0  1467810369  Mon Apr 06 22:19:45 PDT 2009  NO_QUERY  _TheSpecialOne_   \n",
       "1  0  1467810672  Mon Apr 06 22:19:49 PDT 2009  NO_QUERY    scotthamilton   \n",
       "\n",
       "                                                   5  \n",
       "0  @switchfoot http://twitpic.com/2y1zl - Awww, t...  \n",
       "1  is upset that he can't update his Facebook by ...  "
      ]
     },
     "execution_count": 4,
     "metadata": {},
     "output_type": "execute_result"
    }
   ],
   "source": [
    "# data: https://www.kaggle.com/datasets/kazanova/sentiment140\n",
    "\n",
    "import pandas as pd\n",
    "\n",
    "df = pd.read_csv('training.1600000.processed.noemoticon.csv',encoding = 'latin', header = None, lineterminator='\\n')\n",
    "df.head(2)"
   ]
  },
  {
   "cell_type": "code",
   "execution_count": 5,
   "metadata": {},
   "outputs": [
    {
     "data": {
      "text/html": [
       "<div>\n",
       "<style scoped>\n",
       "    .dataframe tbody tr th:only-of-type {\n",
       "        vertical-align: middle;\n",
       "    }\n",
       "\n",
       "    .dataframe tbody tr th {\n",
       "        vertical-align: top;\n",
       "    }\n",
       "\n",
       "    .dataframe thead th {\n",
       "        text-align: right;\n",
       "    }\n",
       "</style>\n",
       "<table border=\"1\" class=\"dataframe\">\n",
       "  <thead>\n",
       "    <tr style=\"text-align: right;\">\n",
       "      <th></th>\n",
       "      <th>sentiment_label</th>\n",
       "      <th>id</th>\n",
       "      <th>date</th>\n",
       "      <th>query</th>\n",
       "      <th>user_id</th>\n",
       "      <th>text</th>\n",
       "    </tr>\n",
       "  </thead>\n",
       "  <tbody>\n",
       "    <tr>\n",
       "      <th>0</th>\n",
       "      <td>0</td>\n",
       "      <td>1467810369</td>\n",
       "      <td>Mon Apr 06 22:19:45 PDT 2009</td>\n",
       "      <td>NO_QUERY</td>\n",
       "      <td>_TheSpecialOne_</td>\n",
       "      <td>@switchfoot http://twitpic.com/2y1zl - Awww, t...</td>\n",
       "    </tr>\n",
       "    <tr>\n",
       "      <th>1</th>\n",
       "      <td>0</td>\n",
       "      <td>1467810672</td>\n",
       "      <td>Mon Apr 06 22:19:49 PDT 2009</td>\n",
       "      <td>NO_QUERY</td>\n",
       "      <td>scotthamilton</td>\n",
       "      <td>is upset that he can't update his Facebook by ...</td>\n",
       "    </tr>\n",
       "  </tbody>\n",
       "</table>\n",
       "</div>"
      ],
      "text/plain": [
       "   sentiment_label          id                          date     query  \\\n",
       "0                0  1467810369  Mon Apr 06 22:19:45 PDT 2009  NO_QUERY   \n",
       "1                0  1467810672  Mon Apr 06 22:19:49 PDT 2009  NO_QUERY   \n",
       "\n",
       "           user_id                                               text  \n",
       "0  _TheSpecialOne_  @switchfoot http://twitpic.com/2y1zl - Awww, t...  \n",
       "1    scotthamilton  is upset that he can't update his Facebook by ...  "
      ]
     },
     "execution_count": 5,
     "metadata": {},
     "output_type": "execute_result"
    }
   ],
   "source": [
    "df.columns = ['sentiment_label', 'id', 'date', 'query', 'user_id', 'text']\n",
    "df.head(2)"
   ]
  },
  {
   "cell_type": "code",
   "execution_count": 6,
   "metadata": {},
   "outputs": [],
   "source": [
    "df = df.drop(['id', 'date', 'query', 'user_id'], axis=1)"
   ]
  },
  {
   "cell_type": "code",
   "execution_count": 7,
   "metadata": {},
   "outputs": [
    {
     "data": {
      "text/html": [
       "<div>\n",
       "<style scoped>\n",
       "    .dataframe tbody tr th:only-of-type {\n",
       "        vertical-align: middle;\n",
       "    }\n",
       "\n",
       "    .dataframe tbody tr th {\n",
       "        vertical-align: top;\n",
       "    }\n",
       "\n",
       "    .dataframe thead th {\n",
       "        text-align: right;\n",
       "    }\n",
       "</style>\n",
       "<table border=\"1\" class=\"dataframe\">\n",
       "  <thead>\n",
       "    <tr style=\"text-align: right;\">\n",
       "      <th></th>\n",
       "      <th>sentiment_label</th>\n",
       "      <th>text</th>\n",
       "    </tr>\n",
       "  </thead>\n",
       "  <tbody>\n",
       "    <tr>\n",
       "      <th>0</th>\n",
       "      <td>negative</td>\n",
       "      <td>@switchfoot http://twitpic.com/2y1zl - Awww, t...</td>\n",
       "    </tr>\n",
       "    <tr>\n",
       "      <th>1</th>\n",
       "      <td>negative</td>\n",
       "      <td>is upset that he can't update his Facebook by ...</td>\n",
       "    </tr>\n",
       "    <tr>\n",
       "      <th>2</th>\n",
       "      <td>negative</td>\n",
       "      <td>@Kenichan I dived many times for the ball. Man...</td>\n",
       "    </tr>\n",
       "    <tr>\n",
       "      <th>3</th>\n",
       "      <td>negative</td>\n",
       "      <td>my whole body feels itchy and like its on fire</td>\n",
       "    </tr>\n",
       "    <tr>\n",
       "      <th>4</th>\n",
       "      <td>negative</td>\n",
       "      <td>@nationwideclass no, it's not behaving at all....</td>\n",
       "    </tr>\n",
       "  </tbody>\n",
       "</table>\n",
       "</div>"
      ],
      "text/plain": [
       "  sentiment_label                                               text\n",
       "0        negative  @switchfoot http://twitpic.com/2y1zl - Awww, t...\n",
       "1        negative  is upset that he can't update his Facebook by ...\n",
       "2        negative  @Kenichan I dived many times for the ball. Man...\n",
       "3        negative    my whole body feels itchy and like its on fire \n",
       "4        negative  @nationwideclass no, it's not behaving at all...."
      ]
     },
     "execution_count": 7,
     "metadata": {},
     "output_type": "execute_result"
    }
   ],
   "source": [
    "lab_to_sentiment = {0:\"negative\", 4:\"positive\"}\n",
    "def label_decoder(label):\n",
    "    return lab_to_sentiment[label]\n",
    "df.sentiment_label = df.sentiment_label.apply(lambda x: label_decoder(x))\n",
    "df.head()"
   ]
  },
  {
   "cell_type": "code",
   "execution_count": 8,
   "metadata": {},
   "outputs": [
    {
     "data": {
      "text/plain": [
       "Text(0.5, 1.0, 'Sentiment Data Distribution')"
      ]
     },
     "execution_count": 8,
     "metadata": {},
     "output_type": "execute_result"
    },
    {
     "data": {
      "image/png": "[encoded data removed]",
      "text/plain": [
       "<Figure size 800x400 with 1 Axes>"
      ]
     },
     "metadata": {},
     "output_type": "display_data"
    }
   ],
   "source": [
    "import matplotlib.pyplot as plt\n",
    "\n",
    "val_count = df.sentiment_label.value_counts()\n",
    "\n",
    "plt.figure(figsize=(8,4))\n",
    "plt.bar(val_count.index, val_count.values)\n",
    "plt.title(\"Sentiment Data Distribution\")"
   ]
  },
  {
   "cell_type": "code",
   "execution_count": 64,
   "metadata": {},
   "outputs": [],
   "source": [
    "import re\n",
    "import torch\n",
    "import numpy as np\n",
    "from scipy.special import softmax\n",
    "\n",
    "from transformers import AutoModelForSequenceClassification\n",
    "from transformers import TFAutoModelForSequenceClassification\n",
    "from transformers import AutoTokenizer, AutoConfig\n",
    "# import time\n",
    "\n",
    "from transformers import logging as transformers_logging\n",
    "transformers_logging.set_verbosity_error()\n",
    "\n",
    "MODEL = f\"cardiffnlp/twitter-roberta-base-sentiment-latest\"\n",
    "tokenizer = AutoTokenizer.from_pretrained(MODEL)\n",
    "configr = AutoConfig.from_pretrained(MODEL)\n",
    "model = AutoModelForSequenceClassification.from_pretrained(MODEL)\n",
    "\n",
    "device = torch.device('cuda' if torch.cuda.is_available() else 'mps' if torch.backends.mps.is_available() else 'cpu')\n",
    "model.to(device)\n",
    "\n",
    "def transform_text(text):\n",
    "    text = text.lower()  # Normalize case\n",
    "    text = re.sub(r'http\\S+|www\\S+|https\\S+', '', text, flags=re.MULTILINE)  # Remove URLs\n",
    "    text = re.sub(r'([A-Za-z])\\1{2,}', r'\\1\\1', text)  # Replace repeated characters\n",
    "    text = re.sub(r'@\\S+', '@user', text)  # Replace user mentions\n",
    "    text = re.sub(r'#', '', text)  # Optional: Remove the hashtag symbol, keep the word\n",
    "    text = re.sub(r'[^a-z0-9 ]+', '', text)  # Remove special characters\n",
    "    text = re.sub(r'\\s+', ' ', text).strip()  # Remove extra spaces\n",
    "    return text\n",
    "\n",
    "def roberta(text, tokenizer, model, configr):\n",
    "    ptext = transform_text(text)\n",
    "    \n",
    "    input = tokenizer(ptext, return_tensors='pt')\n",
    "    input = input.to(device)\n",
    "    \n",
    "    with torch.no_grad():\n",
    "        output = model(**input)\n",
    "        \n",
    "    scores = output[0][0].cpu().detach().numpy()\n",
    "    scores = softmax(scores)\n",
    "    \n",
    "    sentiment_score = scores[2].item() - scores[0].item()\n",
    "    max_score = np.argmax(scores)\n",
    "    label = configr.id2label[max_score]\n",
    "    \n",
    "    return label, sentiment_score"
   ]
  },
  {
   "cell_type": "code",
   "execution_count": 10,
   "metadata": {},
   "outputs": [],
   "source": [
    "import random\n",
    "\n",
    "random.seed(69)\n",
    "\n",
    "random_idx_list = [random.randint(1,len(df.text)) for i in range(2000)] # creates random indexes to choose from dataframe\n",
    "df0 = df.loc[random_idx_list,:]"
   ]
  },
  {
   "cell_type": "code",
   "execution_count": 11,
   "metadata": {},
   "outputs": [
    {
     "name": "stdout",
     "output_type": "stream",
     "text": [
      "Processed 1092/1600000 texts\r"
     ]
    }
   ],
   "source": [
    "counter = 0\n",
    "\n",
    "def process_text(x):\n",
    "    label, score = roberta(x, tokenizer, model, configr)\n",
    "    if label == 'neutral':\n",
    "        return pd.Series([None, None])\n",
    "    else:\n",
    "        global counter\n",
    "        counter += 1\n",
    "        print(f'Processed {counter}/{len(df)} texts', end='\\r')\n",
    "        return pd.Series([label, score])\n",
    "\n",
    "df0[['roberta_label', 'roberta_score']] = df0.text.apply(process_text)\n",
    "df0 = df0.dropna(subset=['roberta_label'])"
   ]
  },
  {
   "cell_type": "code",
   "execution_count": 12,
   "metadata": {},
   "outputs": [
    {
     "name": "stdout",
     "output_type": "stream",
     "text": [
      "1092\n"
     ]
    },
    {
     "data": {
      "text/html": [
       "<div>\n",
       "<style scoped>\n",
       "    .dataframe tbody tr th:only-of-type {\n",
       "        vertical-align: middle;\n",
       "    }\n",
       "\n",
       "    .dataframe tbody tr th {\n",
       "        vertical-align: top;\n",
       "    }\n",
       "\n",
       "    .dataframe thead th {\n",
       "        text-align: right;\n",
       "    }\n",
       "</style>\n",
       "<table border=\"1\" class=\"dataframe\">\n",
       "  <thead>\n",
       "    <tr style=\"text-align: right;\">\n",
       "      <th></th>\n",
       "      <th>sentiment_label</th>\n",
       "      <th>text</th>\n",
       "      <th>roberta_label</th>\n",
       "      <th>roberta_score</th>\n",
       "    </tr>\n",
       "  </thead>\n",
       "  <tbody>\n",
       "    <tr>\n",
       "      <th>78234</th>\n",
       "      <td>negative</td>\n",
       "      <td>@DJSMOOK is everyone still there? Am I still a...</td>\n",
       "      <td>negative</td>\n",
       "      <td>-0.556635</td>\n",
       "    </tr>\n",
       "    <tr>\n",
       "      <th>350046</th>\n",
       "      <td>negative</td>\n",
       "      <td>i watched the finale of life with derek. i fee...</td>\n",
       "      <td>negative</td>\n",
       "      <td>-0.366377</td>\n",
       "    </tr>\n",
       "    <tr>\n",
       "      <th>139830</th>\n",
       "      <td>negative</td>\n",
       "      <td>Life... YOU SUCK!</td>\n",
       "      <td>negative</td>\n",
       "      <td>-0.861138</td>\n",
       "    </tr>\n",
       "    <tr>\n",
       "      <th>869339</th>\n",
       "      <td>positive</td>\n",
       "      <td>Had so much fun singstaring! Thanks Leah</td>\n",
       "      <td>positive</td>\n",
       "      <td>0.898155</td>\n",
       "    </tr>\n",
       "    <tr>\n",
       "      <th>898308</th>\n",
       "      <td>positive</td>\n",
       "      <td>@daNanner that is great site us us that still ...</td>\n",
       "      <td>positive</td>\n",
       "      <td>0.777681</td>\n",
       "    </tr>\n",
       "  </tbody>\n",
       "</table>\n",
       "</div>"
      ],
      "text/plain": [
       "       sentiment_label                                               text  \\\n",
       "78234         negative  @DJSMOOK is everyone still there? Am I still a...   \n",
       "350046        negative  i watched the finale of life with derek. i fee...   \n",
       "139830        negative                                 Life... YOU SUCK!    \n",
       "869339        positive          Had so much fun singstaring! Thanks Leah    \n",
       "898308        positive  @daNanner that is great site us us that still ...   \n",
       "\n",
       "       roberta_label  roberta_score  \n",
       "78234       negative      -0.556635  \n",
       "350046      negative      -0.366377  \n",
       "139830      negative      -0.861138  \n",
       "869339      positive       0.898155  \n",
       "898308      positive       0.777681  "
      ]
     },
     "execution_count": 12,
     "metadata": {},
     "output_type": "execute_result"
    }
   ],
   "source": [
    "print(len(df0))\n",
    "df0.head()"
   ]
  },
  {
   "cell_type": "code",
   "execution_count": 13,
   "metadata": {},
   "outputs": [
    {
     "name": "stdout",
     "output_type": "stream",
     "text": [
      "Precision for each class: {'positive': 0.8008948545861297, 'neutral': 0.0, 'negative': 0.7984496124031008}\n"
     ]
    },
    {
     "name": "stderr",
     "output_type": "stream",
     "text": [
      "/Users/master/anaconda3/envs/jbg030/lib/python3.12/site-packages/sklearn/metrics/_classification.py:1517: UndefinedMetricWarning: Precision is ill-defined and being set to 0.0 in labels with no predicted samples. Use `zero_division` parameter to control this behavior.\n",
      "  _warn_prf(average, modifier, f\"{metric.capitalize()} is\", len(result))\n"
     ]
    }
   ],
   "source": [
    "from sklearn.metrics import precision_score\n",
    "\n",
    "true_labels = list(df0.sentiment_label.values)\n",
    "predicted_labels = list(df0.roberta_label.values)\n",
    "\n",
    "classes = ['positive', 'neutral', 'negative']\n",
    "\n",
    "precision_scores = precision_score(true_labels, predicted_labels, labels=classes, average=None)\n",
    "\n",
    "precision_dict = dict(zip(classes, precision_scores))\n",
    "\n",
    "print(f'Precision for each class: {precision_dict}')"
   ]
  },
  {
   "cell_type": "code",
   "execution_count": null,
   "metadata": {},
   "outputs": [],
   "source": []
  },
  {
   "cell_type": "code",
   "execution_count": null,
   "metadata": {},
   "outputs": [],
   "source": []
  },
  {
   "cell_type": "code",
   "execution_count": null,
   "metadata": {},
   "outputs": [],
   "source": []
  },
  {
   "cell_type": "code",
   "execution_count": null,
   "metadata": {},
   "outputs": [],
   "source": []
  },
  {
   "cell_type": "code",
   "execution_count": null,
   "metadata": {},
   "outputs": [],
   "source": []
  },
  {
   "cell_type": "code",
   "execution_count": null,
   "metadata": {},
   "outputs": [],
   "source": []
  },
  {
   "cell_type": "code",
   "execution_count": null,
   "metadata": {},
   "outputs": [],
   "source": []
  },
  {
   "cell_type": "code",
   "execution_count": null,
   "metadata": {},
   "outputs": [],
   "source": []
  },
  {
   "cell_type": "code",
   "execution_count": null,
   "metadata": {},
   "outputs": [],
   "source": []
  },
  {
   "cell_type": "code",
   "execution_count": null,
   "metadata": {},
   "outputs": [],
   "source": []
  },
  {
   "cell_type": "code",
   "execution_count": null,
   "metadata": {},
   "outputs": [],
   "source": []
  },
  {
   "cell_type": "code",
   "execution_count": null,
   "metadata": {},
   "outputs": [],
   "source": []
  },
  {
   "cell_type": "code",
   "execution_count": null,
   "metadata": {},
   "outputs": [],
   "source": []
  },
  {
   "cell_type": "code",
   "execution_count": null,
   "metadata": {},
   "outputs": [],
   "source": []
  },
  {
   "cell_type": "code",
   "execution_count": null,
   "metadata": {},
   "outputs": [],
   "source": []
  },
  {
   "cell_type": "code",
   "execution_count": null,
   "metadata": {},
   "outputs": [],
   "source": []
  },
  {
   "cell_type": "code",
   "execution_count": null,
   "metadata": {},
   "outputs": [],
   "source": []
  },
  {
   "cell_type": "code",
   "execution_count": null,
   "metadata": {},
   "outputs": [],
   "source": []
  },
  {
   "cell_type": "code",
   "execution_count": null,
   "metadata": {},
   "outputs": [],
   "source": []
  },
  {
   "cell_type": "code",
   "execution_count": null,
   "metadata": {},
   "outputs": [],
   "source": []
  },
  {
   "cell_type": "code",
   "execution_count": null,
   "metadata": {},
   "outputs": [],
   "source": []
  },
  {
   "cell_type": "code",
   "execution_count": null,
   "metadata": {},
   "outputs": [],
   "source": []
  },
  {
   "cell_type": "code",
   "execution_count": null,
   "metadata": {},
   "outputs": [],
   "source": []
  },
  {
   "cell_type": "code",
   "execution_count": null,
   "metadata": {},
   "outputs": [],
   "source": []
  },
  {
   "cell_type": "code",
   "execution_count": null,
   "metadata": {},
   "outputs": [],
   "source": []
  },
  {
   "cell_type": "code",
   "execution_count": null,
   "metadata": {},
   "outputs": [],
   "source": []
  },
  {
   "cell_type": "code",
   "execution_count": 75,
   "metadata": {},
   "outputs": [
    {
     "name": "stderr",
     "output_type": "stream",
     "text": [
      "[nltk_data] Downloading package wordnet to /Users/master/nltk_data...\n",
      "[nltk_data]   Package wordnet is already up-to-date!\n"
     ]
    }
   ],
   "source": [
    "import nltk\n",
    "nltk.download('wordnet')\n",
    "from nltk.tokenize import word_tokenize\n",
    "from nltk.corpus import stopwords\n",
    "from nltk.stem import PorterStemmer, WordNetLemmatizer\n",
    "\n",
    "# Define functions for preprocessing\n",
    "def preprocess_text(text):\n",
    "    text = text.lower()\n",
    "    \n",
    "    # Tokenize\n",
    "    words = word_tokenize(text)\n",
    "    stop_words = set(stopwords.words('english'))\n",
    "    filtered_words = [word for word in words if word not in stop_words]\n",
    "    # Stemming\n",
    "    stemmer = PorterStemmer()\n",
    "    stemmed_words = [stemmer.stem(word) for word in filtered_words]\n",
    "    # Lemmatizing\n",
    "    lemmatizer = WordNetLemmatizer()\n",
    "    lemmatized_words = [lemmatizer.lemmatize(word) for word in stemmed_words]\n",
    "    processed_text = ' '.join(lemmatized_words)\n",
    "    return processed_text\n",
    "\n",
    "import concurrent.futures\n",
    "\n",
    "def parallel_preprocess(data):\n",
    "    with concurrent.futures.ThreadPoolExecutor(max_workers=6) as executor:\n",
    "        processed_data = list(executor.map(preprocess_text, data))\n",
    "    return processed_data"
   ]
  },
  {
   "cell_type": "code",
   "execution_count": 93,
   "metadata": {},
   "outputs": [],
   "source": [
    "import nltk \n",
    "from nltk.stem import SnowballStemmer\n",
    "\n",
    "stop_words = stopwords.words('english')\n",
    "stemmer = SnowballStemmer('english')\n",
    "\n",
    "text_cleaning_re = r\"@\\S+|https?:\\S+|http?:\\S|[^A-Za-z0-9]+\"\n",
    "\n",
    "def preprocess(text, stem=False):\n",
    "    text = re.sub(text_cleaning_re, ' ', str(text).lower()).strip()\n",
    "    tokens = []\n",
    "    for token in text.split():\n",
    "        if token not in stop_words:\n",
    "            if stem:\n",
    "                tokens.append(stemmer.stem(token))\n",
    "            else:\n",
    "                tokens.append(token)\n",
    "    return \" \".join(tokens)\n",
    "\n",
    "def roberta_stemmed(text, tokenizer, model, configr):\n",
    "    ptext = preprocess_text(text)\n",
    "    \n",
    "    input = tokenizer(ptext, return_tensors='pt')\n",
    "    input = input.to(device)\n",
    "    \n",
    "    with torch.no_grad():\n",
    "        output = model(**input)\n",
    "        \n",
    "    scores = output[0][0].cpu().detach().numpy()\n",
    "    scores = softmax(scores)\n",
    "    \n",
    "    sentiment_score = scores[2].item() - scores[0].item()\n",
    "    max_score = np.argmax(scores)\n",
    "    label = configr.id2label[max_score]\n",
    "    \n",
    "    return label, sentiment_score"
   ]
  },
  {
   "cell_type": "code",
   "execution_count": 94,
   "metadata": {},
   "outputs": [],
   "source": [
    "random.seed(69)\n",
    "\n",
    "random_idx_list1 = [random.randint(1,len(df.text)) for i in range(2000)] # creates random indexes to choose from dataframe\n",
    "df1 = df.loc[random_idx_list1,:]"
   ]
  },
  {
   "cell_type": "code",
   "execution_count": 95,
   "metadata": {},
   "outputs": [
    {
     "name": "stdout",
     "output_type": "stream",
     "text": [
      "Processed 1040/1600000 texts\r"
     ]
    }
   ],
   "source": [
    "counter1 = 0\n",
    "\n",
    "def process_text_stemmed(x):\n",
    "    label, score = roberta_stemmed(x, tokenizer, model, configr)\n",
    "    if label == 'neutral':\n",
    "        return pd.Series([None, None])\n",
    "    else:\n",
    "        global counter1\n",
    "        counter1 += 1\n",
    "        print(f'Processed {counter1}/{len(df)} texts', end='\\r')\n",
    "        return pd.Series([label, score])\n",
    "\n",
    "df1[['roberta_label', 'roberta_score']] = df1.text.apply(process_text_stemmed)\n",
    "df1 = df1.dropna(subset=['roberta_label'])"
   ]
  },
  {
   "cell_type": "code",
   "execution_count": 96,
   "metadata": {},
   "outputs": [
    {
     "name": "stdout",
     "output_type": "stream",
     "text": [
      "1040\n"
     ]
    },
    {
     "data": {
      "text/html": [
       "<div>\n",
       "<style scoped>\n",
       "    .dataframe tbody tr th:only-of-type {\n",
       "        vertical-align: middle;\n",
       "    }\n",
       "\n",
       "    .dataframe tbody tr th {\n",
       "        vertical-align: top;\n",
       "    }\n",
       "\n",
       "    .dataframe thead th {\n",
       "        text-align: right;\n",
       "    }\n",
       "</style>\n",
       "<table border=\"1\" class=\"dataframe\">\n",
       "  <thead>\n",
       "    <tr style=\"text-align: right;\">\n",
       "      <th></th>\n",
       "      <th>sentiment_label</th>\n",
       "      <th>text</th>\n",
       "      <th>roberta_label</th>\n",
       "      <th>roberta_score</th>\n",
       "    </tr>\n",
       "  </thead>\n",
       "  <tbody>\n",
       "    <tr>\n",
       "      <th>78234</th>\n",
       "      <td>negative</td>\n",
       "      <td>@DJSMOOK is everyone still there? Am I still a...</td>\n",
       "      <td>negative</td>\n",
       "      <td>-0.892945</td>\n",
       "    </tr>\n",
       "    <tr>\n",
       "      <th>350046</th>\n",
       "      <td>negative</td>\n",
       "      <td>i watched the finale of life with derek. i fee...</td>\n",
       "      <td>negative</td>\n",
       "      <td>-0.679009</td>\n",
       "    </tr>\n",
       "    <tr>\n",
       "      <th>139830</th>\n",
       "      <td>negative</td>\n",
       "      <td>Life... YOU SUCK!</td>\n",
       "      <td>negative</td>\n",
       "      <td>-0.915433</td>\n",
       "    </tr>\n",
       "    <tr>\n",
       "      <th>1269037</th>\n",
       "      <td>positive</td>\n",
       "      <td>Freebie: Head to On The Border restaurants for...</td>\n",
       "      <td>positive</td>\n",
       "      <td>0.532857</td>\n",
       "    </tr>\n",
       "    <tr>\n",
       "      <th>869339</th>\n",
       "      <td>positive</td>\n",
       "      <td>Had so much fun singstaring! Thanks Leah</td>\n",
       "      <td>positive</td>\n",
       "      <td>0.983781</td>\n",
       "    </tr>\n",
       "  </tbody>\n",
       "</table>\n",
       "</div>"
      ],
      "text/plain": [
       "        sentiment_label                                               text  \\\n",
       "78234          negative  @DJSMOOK is everyone still there? Am I still a...   \n",
       "350046         negative  i watched the finale of life with derek. i fee...   \n",
       "139830         negative                                 Life... YOU SUCK!    \n",
       "1269037        positive  Freebie: Head to On The Border restaurants for...   \n",
       "869339         positive          Had so much fun singstaring! Thanks Leah    \n",
       "\n",
       "        roberta_label  roberta_score  \n",
       "78234        negative      -0.892945  \n",
       "350046       negative      -0.679009  \n",
       "139830       negative      -0.915433  \n",
       "1269037      positive       0.532857  \n",
       "869339       positive       0.983781  "
      ]
     },
     "execution_count": 96,
     "metadata": {},
     "output_type": "execute_result"
    }
   ],
   "source": [
    "print(len(df1))\n",
    "df1.head()"
   ]
  },
  {
   "cell_type": "code",
   "execution_count": 97,
   "metadata": {},
   "outputs": [
    {
     "name": "stdout",
     "output_type": "stream",
     "text": [
      "Precision for each class: {'positive': 0.7768166089965398, 'neutral': 0.0, 'negative': 0.841991341991342}\n"
     ]
    },
    {
     "name": "stderr",
     "output_type": "stream",
     "text": [
      "/Users/master/anaconda3/envs/jbg030/lib/python3.12/site-packages/sklearn/metrics/_classification.py:1517: UndefinedMetricWarning: Precision is ill-defined and being set to 0.0 in labels with no predicted samples. Use `zero_division` parameter to control this behavior.\n",
      "  _warn_prf(average, modifier, f\"{metric.capitalize()} is\", len(result))\n"
     ]
    }
   ],
   "source": [
    "from sklearn.metrics import precision_score\n",
    "\n",
    "true_labels = list(df1.sentiment_label.values)\n",
    "predicted_labels = list(df1.roberta_label.values)\n",
    "\n",
    "classes = ['positive', 'neutral', 'negative']\n",
    "\n",
    "precision_scores = precision_score(true_labels, predicted_labels, labels=classes, average=None)\n",
    "\n",
    "precision_dict = dict(zip(classes, precision_scores))\n",
    "\n",
    "print(f'Precision for each class: {precision_dict}')"
   ]
  }
 ],
 "metadata": {
  "kernelspec": {
   "display_name": "jbg030",
   "language": "python",
   "name": "python3"
  },
  "language_info": {
   "codemirror_mode": {
    "name": "ipython",
    "version": 3
   },
   "file_extension": ".py",
   "mimetype": "text/x-python",
   "name": "python",
   "nbconvert_exporter": "python",
   "pygments_lexer": "ipython3",
   "version": "3.12.3"
  }
 },
 "nbformat": 4,
 "nbformat_minor": 2
}
