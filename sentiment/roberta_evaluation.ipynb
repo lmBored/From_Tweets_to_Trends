{
 "cells": [
  {
   "cell_type": "code",
   "execution_count": null,
   "metadata": {},
   "outputs": [],
   "source": [
    "import sys\n",
    "import os\n",
    "root_dir = os.path.dirname(os.getcwd())\n",
    "sys.path.append(root_dir)\n",
    "os.chdir(root_dir)"
   ]
  },
  {
   "cell_type": "code",
   "execution_count": null,
   "metadata": {},
   "outputs": [],
   "source": [
    "def check_line_terminators(filename):\n",
    "    with open(filename, 'rb') as f:\n",
    "        data = f.read()\n",
    "\n",
    "    line_terminators = {'\\r\\n': b'\\r\\n', '\\n': b'\\n', '\\r': b'\\r'}\n",
    "\n",
    "    for name, terminator in line_terminators.items():\n",
    "        if terminator in data:\n",
    "            return name\n",
    "\n",
    "# Call the function with the filename\n",
    "check_line_terminators('training.1600000.processed.noemoticon.csv')"
   ]
  },
  {
   "cell_type": "code",
   "execution_count": null,
   "metadata": {},
   "outputs": [],
   "source": [
    "# data: https://www.kaggle.com/datasets/kazanova/sentiment140\n",
    "\n",
    "import pandas as pd\n",
    "\n",
    "df = pd.read_csv('training.1600000.processed.noemoticon.csv',encoding = 'latin', header = None, lineterminator='\\n')\n",
    "df.head(2)"
   ]
  },
  {
   "cell_type": "code",
   "execution_count": null,
   "metadata": {},
   "outputs": [],
   "source": [
    "df.columns = ['sentiment_label', 'id', 'date', 'query', 'user_id', 'text']\n",
    "df.head(2)"
   ]
  },
  {
   "cell_type": "code",
   "execution_count": null,
   "metadata": {},
   "outputs": [],
   "source": [
    "df = df.drop(['id', 'date', 'query', 'user_id'], axis=1)"
   ]
  },
  {
   "cell_type": "code",
   "execution_count": null,
   "metadata": {},
   "outputs": [],
   "source": [
    "lab_to_sentiment = {0:\"negative\", 4:\"positive\"}\n",
    "def label_decoder(label):\n",
    "    return lab_to_sentiment[label]\n",
    "df.sentiment_label = df.sentiment_label.apply(lambda x: label_decoder(x))\n",
    "df.head()"
   ]
  },
  {
   "cell_type": "code",
   "execution_count": null,
   "metadata": {},
   "outputs": [],
   "source": [
    "import matplotlib.pyplot as plt\n",
    "\n",
    "val_count = df.sentiment_label.value_counts()\n",
    "\n",
    "plt.figure(figsize=(8,4))\n",
    "plt.bar(val_count.index, val_count.values)\n",
    "plt.title(\"Sentiment Data Distribution\")"
   ]
  },
  {
   "cell_type": "code",
   "execution_count": null,
   "metadata": {},
   "outputs": [],
   "source": [
    "import re\n",
    "import torch\n",
    "import numpy as np\n",
    "from scipy.special import softmax\n",
    "\n",
    "from transformers import AutoModelForSequenceClassification\n",
    "from transformers import TFAutoModelForSequenceClassification\n",
    "from transformers import AutoTokenizer, AutoConfig\n",
    "# import time\n",
    "\n",
    "from transformers import logging as transformers_logging\n",
    "transformers_logging.set_verbosity_error()\n",
    "\n",
    "MODEL = f\"cardiffnlp/twitter-roberta-base-sentiment-latest\"\n",
    "tokenizer = AutoTokenizer.from_pretrained(MODEL)\n",
    "configr = AutoConfig.from_pretrained(MODEL)\n",
    "model = AutoModelForSequenceClassification.from_pretrained(MODEL)\n",
    "\n",
    "device = torch.device('cuda' if torch.cuda.is_available() else 'mps' if torch.backends.mps.is_available() else 'cpu')\n",
    "model.to(device)\n",
    "\n",
    "def transform_text(text):\n",
    "    text = text.lower()  # Normalize case\n",
    "    text = re.sub(r'http\\S+|www\\S+|https\\S+', '', text, flags=re.MULTILINE)  # Remove URLs\n",
    "    text = re.sub(r'([A-Za-z])\\1{2,}', r'\\1\\1', text)  # Replace repeated characters\n",
    "    text = re.sub(r'@\\S+', '@user', text)  # Replace user mentions\n",
    "    text = re.sub(r'#', '', text)  # Optional: Remove the hashtag symbol, keep the word\n",
    "    text = re.sub(r'[^a-z0-9 ]+', '', text)  # Remove special characters\n",
    "    text = re.sub(r'\\s+', ' ', text).strip()  # Remove extra spaces\n",
    "    return text\n",
    "\n",
    "def roberta(text, tokenizer, model, configr):\n",
    "    ptext = transform_text(text)\n",
    "    \n",
    "    input = tokenizer(ptext, return_tensors='pt')\n",
    "    input = input.to(device)\n",
    "    \n",
    "    with torch.no_grad():\n",
    "        output = model(**input)\n",
    "        \n",
    "    scores = output[0][0].cpu().detach().numpy()\n",
    "    scores = softmax(scores)\n",
    "    \n",
    "    sentiment_score = scores[2].item() - scores[0].item()\n",
    "    max_score = np.argmax(scores)\n",
    "    label = configr.id2label[max_score]\n",
    "    \n",
    "    return label, sentiment_score"
   ]
  },
  {
   "cell_type": "code",
   "execution_count": null,
   "metadata": {},
   "outputs": [],
   "source": [
    "import random\n",
    "\n",
    "random.seed(69)\n",
    "\n",
    "random_idx_list = [random.randint(1,len(df.text)) for i in range(2000)] # creates random indexes to choose from dataframe\n",
    "df0 = df.loc[random_idx_list,:]"
   ]
  },
  {
   "cell_type": "code",
   "execution_count": null,
   "metadata": {},
   "outputs": [],
   "source": [
    "counter = 0\n",
    "\n",
    "def process_text(x):\n",
    "    label, score = roberta(x, tokenizer, model, configr)\n",
    "    if label == 'neutral':\n",
    "        return pd.Series([None, None])\n",
    "    else:\n",
    "        global counter\n",
    "        counter += 1\n",
    "        print(f'Processed {counter}/{len(df)} texts', end='\\r')\n",
    "        return pd.Series([label, score])\n",
    "\n",
    "df0[['roberta_label', 'roberta_score']] = df0.text.apply(process_text)\n",
    "df0 = df0.dropna(subset=['roberta_label'])"
   ]
  },
  {
   "cell_type": "code",
   "execution_count": null,
   "metadata": {},
   "outputs": [],
   "source": [
    "print(len(df0))\n",
    "df0.head()"
   ]
  },
  {
   "cell_type": "code",
   "execution_count": null,
   "metadata": {},
   "outputs": [],
   "source": [
    "from sklearn.metrics import precision_score\n",
    "\n",
    "true_labels = list(df0.sentiment_label.values)\n",
    "predicted_labels = list(df0.roberta_label.values)\n",
    "\n",
    "classes = ['positive', 'neutral', 'negative']\n",
    "\n",
    "precision_scores = precision_score(true_labels, predicted_labels, labels=classes, average=None)\n",
    "\n",
    "precision_dict = dict(zip(classes, precision_scores))\n",
    "\n",
    "print(f'Precision for each class: {precision_dict}')"
   ]
  },
  {
   "cell_type": "code",
   "execution_count": null,
   "metadata": {},
   "outputs": [],
   "source": []
  },
  {
   "cell_type": "code",
   "execution_count": null,
   "metadata": {},
   "outputs": [],
   "source": []
  },
  {
   "cell_type": "code",
   "execution_count": null,
   "metadata": {},
   "outputs": [],
   "source": []
  },
  {
   "cell_type": "code",
   "execution_count": null,
   "metadata": {},
   "outputs": [],
   "source": []
  },
  {
   "cell_type": "code",
   "execution_count": null,
   "metadata": {},
   "outputs": [],
   "source": []
  },
  {
   "cell_type": "code",
   "execution_count": null,
   "metadata": {},
   "outputs": [],
   "source": []
  },
  {
   "cell_type": "code",
   "execution_count": null,
   "metadata": {},
   "outputs": [],
   "source": []
  },
  {
   "cell_type": "code",
   "execution_count": null,
   "metadata": {},
   "outputs": [],
   "source": []
  },
  {
   "cell_type": "code",
   "execution_count": null,
   "metadata": {},
   "outputs": [],
   "source": []
  },
  {
   "cell_type": "code",
   "execution_count": null,
   "metadata": {},
   "outputs": [],
   "source": []
  },
  {
   "cell_type": "code",
   "execution_count": null,
   "metadata": {},
   "outputs": [],
   "source": []
  },
  {
   "cell_type": "code",
   "execution_count": null,
   "metadata": {},
   "outputs": [],
   "source": []
  },
  {
   "cell_type": "code",
   "execution_count": null,
   "metadata": {},
   "outputs": [],
   "source": []
  },
  {
   "cell_type": "code",
   "execution_count": null,
   "metadata": {},
   "outputs": [],
   "source": []
  },
  {
   "cell_type": "code",
   "execution_count": null,
   "metadata": {},
   "outputs": [],
   "source": []
  },
  {
   "cell_type": "code",
   "execution_count": null,
   "metadata": {},
   "outputs": [],
   "source": []
  },
  {
   "cell_type": "code",
   "execution_count": null,
   "metadata": {},
   "outputs": [],
   "source": []
  },
  {
   "cell_type": "code",
   "execution_count": null,
   "metadata": {},
   "outputs": [],
   "source": []
  },
  {
   "cell_type": "code",
   "execution_count": null,
   "metadata": {},
   "outputs": [],
   "source": []
  },
  {
   "cell_type": "code",
   "execution_count": null,
   "metadata": {},
   "outputs": [],
   "source": []
  },
  {
   "cell_type": "code",
   "execution_count": null,
   "metadata": {},
   "outputs": [],
   "source": []
  },
  {
   "cell_type": "code",
   "execution_count": null,
   "metadata": {},
   "outputs": [],
   "source": []
  },
  {
   "cell_type": "code",
   "execution_count": null,
   "metadata": {},
   "outputs": [],
   "source": []
  },
  {
   "cell_type": "code",
   "execution_count": null,
   "metadata": {},
   "outputs": [],
   "source": []
  },
  {
   "cell_type": "code",
   "execution_count": null,
   "metadata": {},
   "outputs": [],
   "source": []
  },
  {
   "cell_type": "code",
   "execution_count": null,
   "metadata": {},
   "outputs": [],
   "source": []
  },
  {
   "cell_type": "code",
   "execution_count": null,
   "metadata": {},
   "outputs": [],
   "source": [
    "import nltk\n",
    "nltk.download('wordnet')\n",
    "from nltk.tokenize import word_tokenize\n",
    "from nltk.corpus import stopwords\n",
    "from nltk.stem import PorterStemmer, WordNetLemmatizer\n",
    "\n",
    "# Define functions for preprocessing\n",
    "def preprocess_text(text):\n",
    "    text = text.lower()\n",
    "    \n",
    "    # Tokenize\n",
    "    words = word_tokenize(text)\n",
    "    stop_words = set(stopwords.words('english'))\n",
    "    filtered_words = [word for word in words if word not in stop_words]\n",
    "    # Stemming\n",
    "    stemmer = PorterStemmer()\n",
    "    stemmed_words = [stemmer.stem(word) for word in filtered_words]\n",
    "    # Lemmatizing\n",
    "    lemmatizer = WordNetLemmatizer()\n",
    "    lemmatized_words = [lemmatizer.lemmatize(word) for word in stemmed_words]\n",
    "    processed_text = ' '.join(lemmatized_words)\n",
    "    return processed_text\n",
    "\n",
    "import concurrent.futures\n",
    "\n",
    "def parallel_preprocess(data):\n",
    "    with concurrent.futures.ThreadPoolExecutor(max_workers=6) as executor:\n",
    "        processed_data = list(executor.map(preprocess_text, data))\n",
    "    return processed_data"
   ]
  },
  {
   "cell_type": "code",
   "execution_count": null,
   "metadata": {},
   "outputs": [],
   "source": [
    "import nltk \n",
    "from nltk.stem import SnowballStemmer\n",
    "\n",
    "stop_words = stopwords.words('english')\n",
    "stemmer = SnowballStemmer('english')\n",
    "\n",
    "text_cleaning_re = r\"@\\S+|https?:\\S+|http?:\\S|[^A-Za-z0-9]+\"\n",
    "\n",
    "def preprocess(text, stem=False):\n",
    "    text = re.sub(text_cleaning_re, ' ', str(text).lower()).strip()\n",
    "    tokens = []\n",
    "    for token in text.split():\n",
    "        if token not in stop_words:\n",
    "            if stem:\n",
    "                tokens.append(stemmer.stem(token))\n",
    "            else:\n",
    "                tokens.append(token)\n",
    "    return \" \".join(tokens)\n",
    "\n",
    "def roberta_stemmed(text, tokenizer, model, configr):\n",
    "    ptext = preprocess_text(text)\n",
    "    \n",
    "    input = tokenizer(ptext, return_tensors='pt')\n",
    "    input = input.to(device)\n",
    "    \n",
    "    with torch.no_grad():\n",
    "        output = model(**input)\n",
    "        \n",
    "    scores = output[0][0].cpu().detach().numpy()\n",
    "    scores = softmax(scores)\n",
    "    \n",
    "    sentiment_score = scores[2].item() - scores[0].item()\n",
    "    max_score = np.argmax(scores)\n",
    "    label = configr.id2label[max_score]\n",
    "    \n",
    "    return label, sentiment_score"
   ]
  },
  {
   "cell_type": "code",
   "execution_count": null,
   "metadata": {},
   "outputs": [],
   "source": [
    "random.seed(69)\n",
    "\n",
    "random_idx_list1 = [random.randint(1,len(df.text)) for i in range(2000)] # creates random indexes to choose from dataframe\n",
    "df1 = df.loc[random_idx_list1,:]"
   ]
  },
  {
   "cell_type": "code",
   "execution_count": null,
   "metadata": {},
   "outputs": [],
   "source": [
    "counter1 = 0\n",
    "\n",
    "def process_text_stemmed(x):\n",
    "    label, score = roberta_stemmed(x, tokenizer, model, configr)\n",
    "    if label == 'neutral':\n",
    "        return pd.Series([None, None])\n",
    "    else:\n",
    "        global counter1\n",
    "        counter1 += 1\n",
    "        print(f'Processed {counter1}/{len(df)} texts', end='\\r')\n",
    "        return pd.Series([label, score])\n",
    "\n",
    "df1[['roberta_label', 'roberta_score']] = df1.text.apply(process_text_stemmed)\n",
    "df1 = df1.dropna(subset=['roberta_label'])"
   ]
  },
  {
   "cell_type": "code",
   "execution_count": null,
   "metadata": {},
   "outputs": [],
   "source": [
    "print(len(df1))\n",
    "df1.head()"
   ]
  },
  {
   "cell_type": "code",
   "execution_count": null,
   "metadata": {},
   "outputs": [],
   "source": [
    "from sklearn.metrics import precision_score\n",
    "\n",
    "true_labels = list(df1.sentiment_label.values)\n",
    "predicted_labels = list(df1.roberta_label.values)\n",
    "\n",
    "classes = ['positive', 'neutral', 'negative']\n",
    "\n",
    "precision_scores = precision_score(true_labels, predicted_labels, labels=classes, average=None)\n",
    "\n",
    "precision_dict = dict(zip(classes, precision_scores))\n",
    "\n",
    "print(f'Precision for each class: {precision_dict}')"
   ]
  }
 ],
 "metadata": {
  "kernelspec": {
   "display_name": "jbg030",
   "language": "python",
   "name": "python3"
  },
  "language_info": {
   "codemirror_mode": {
    "name": "ipython",
    "version": 3
   },
   "file_extension": ".py",
   "mimetype": "text/x-python",
   "name": "python",
   "nbconvert_exporter": "python",
   "pygments_lexer": "ipython3",
   "version": "3.12.3"
  }
 },
 "nbformat": 4,
 "nbformat_minor": 2
}
