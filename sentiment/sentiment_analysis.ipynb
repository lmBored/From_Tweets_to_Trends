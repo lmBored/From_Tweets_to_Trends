{
 "cells": [
  {
   "cell_type": "code",
   "execution_count": 6,
   "metadata": {},
   "outputs": [],
   "source": [
    "import sys\n",
    "import os\n",
    "import logging\n",
    "\n",
    "# Add the root directory to sys.path\n",
    "root_dir = os.path.dirname(os.getcwd())\n",
    "os.chdir(root_dir)\n",
    "\n",
    "# Ensure the logging directory exists\n",
    "tmp_dir = os.path.join(root_dir, 'tmp')\n",
    "os.makedirs(tmp_dir, exist_ok=True)\n",
    "\n",
    "log_file = os.path.join(tmp_dir, 'tweets_loading.log')\n",
    "logging.basicConfig(filename=log_file, level=logging.DEBUG, \n",
    "                    format='%(asctime)s %(levelname)s %(name)s %(message)s')\n",
    "logger=logging.getLogger(__name__)"
   ]
  },
  {
   "cell_type": "code",
   "execution_count": 9,
   "metadata": {},
   "outputs": [],
   "source": [
    "import mysql.connector\n",
    "from config import config\n",
    "import pandas as pd"
   ]
  },
  {
   "cell_type": "code",
   "execution_count": 8,
   "metadata": {},
   "outputs": [],
   "source": [
    "connection = mysql.connector.connect(host='localhost', user='root', password=config.get('PASSWORD'),database='jbg030', allow_local_infile=True)\n",
    "cursor = connection.cursor()"
   ]
  },
  {
   "cell_type": "code",
   "execution_count": null,
   "metadata": {},
   "outputs": [],
   "source": [
    "query = \"SELECT text, user_id, mentioned_airline, user_mentions, label, timestamp FROM tweets\"\n",
    "cursor.execute(query)\n",
    "texts = cursor.fetchall()\n",
    "print(\"Text fetched.\")\n",
    "number_tweets = cursor.rowcount\n",
    "print(\"Total number of rows in table: \", number_tweets)"
   ]
  },
  {
   "cell_type": "code",
   "execution_count": null,
   "metadata": {},
   "outputs": [],
   "source": [
    "df = pd.DataFrame(texts, columns=['text', 'user_id', 'mentioned_airline', 'user_mentions', 'label', 'timestamp'])"
   ]
  },
  {
   "cell_type": "code",
   "execution_count": null,
   "metadata": {},
   "outputs": [],
   "source": [
    "sentiment_counts = df['label'].value_counts()"
   ]
  },
  {
   "cell_type": "code",
   "execution_count": null,
   "metadata": {},
   "outputs": [],
   "source": [
    "import matplotlib.pyplot as plt\n",
    "\n",
    "sentiment_counts.plot(kind='bar', color='skyblue')\n",
    "plt.title('Sentiment Distribution')\n",
    "plt.xlabel('Sentiment')\n",
    "plt.ylabel('Frequency')\n",
    "plt.show()"
   ]
  },
  {
   "cell_type": "code",
   "execution_count": null,
   "metadata": {},
   "outputs": [],
   "source": [
    "sentiment_map = {'negative': -1, 'neutral': 0, 'positive': 1}\n",
    "df['sentiment_score'] = df['label'].map(sentiment_map)\n",
    "\n",
    "mean_sentiment = df['sentiment_score'].mean()"
   ]
  },
  {
   "cell_type": "code",
   "execution_count": null,
   "metadata": {},
   "outputs": [],
   "source": [
    "sentiment_stats = df['sentiment_score'].describe()"
   ]
  },
  {
   "cell_type": "code",
   "execution_count": null,
   "metadata": {},
   "outputs": [],
   "source": [
    "df['timestamp'] = pd.to_datetime(df['timestamp'])\n",
    "\n",
    "# Resample sentiment scores by day and calculate mean\n",
    "daily_sentiment = df.resample('D', on='timestamp')['sentiment_score'].mean()\n",
    "\n",
    "# Plot daily sentiment scores\n",
    "daily_sentiment.plot(kind='line', color='skyblue')\n",
    "plt.title('Daily Sentiment Scores')\n",
    "plt.xlabel('Date')\n",
    "plt.ylabel('Sentiment Score')\n",
    "plt.show()"
   ]
  },
  {
   "cell_type": "code",
   "execution_count": null,
   "metadata": {},
   "outputs": [],
   "source": [
    "# Sentiment counts per airline and in of the four main airlines: ['AirFrance', 'Lufthansa', 'KLM', 'British Airways']"
   ]
  },
  {
   "cell_type": "code",
   "execution_count": null,
   "metadata": {},
   "outputs": [],
   "source": [
    "# Positive, negative and neutral counts per airline and in of the four main airlines: ['AirFrance', 'Lufthansa', 'KLM', 'British Airways']"
   ]
  },
  {
   "cell_type": "code",
   "execution_count": null,
   "metadata": {},
   "outputs": [],
   "source": [
    "# Positive, negative and neutral counts per category per airlines"
   ]
  }
 ],
 "metadata": {
  "kernelspec": {
   "display_name": "jbg030",
   "language": "python",
   "name": "python3"
  },
  "language_info": {
   "codemirror_mode": {
    "name": "ipython",
    "version": 3
   },
   "file_extension": ".py",
   "mimetype": "text/x-python",
   "name": "python",
   "nbconvert_exporter": "python",
   "pygments_lexer": "ipython3",
   "version": "3.12.3"
  }
 },
 "nbformat": 4,
 "nbformat_minor": 2
}
